{
 "cells": [
  {
   "cell_type": "code",
   "execution_count": 9,
   "metadata": {},
   "outputs": [],
   "source": [
    "\"\"\"\n",
    "* 영화 이름을 가지고 감독, 주요 출연진, 예산, 흥행 수익, 영화의 장르, 간단한 시놉시스 등 영화에 대한 정보로 답장하는 체인을 만드세요.\n",
    "* LLM은 항상 동일한 형식을 사용하여 응답해야 하며, 이를 위해서는 원하는 출력의 예시를 LLM에 제공해야 합니다.\n",
    "* 예제를 제공하려면 FewShotPromptTemplate 또는 FewShotChatMessagePromptTemplate을 사용하세요.\n",
    "\"\"\"\n",
    "\n",
    "from langchain.chat_models import ChatOpenAI\n",
    "from langchain.schema import HumanMessage, AIMessage, SystemMessage\n",
    "from langchain.prompts import ChatPromptTemplate\n",
    "from langchain.prompts.few_shot import FewShotPromptTemplate\n",
    "from langchain.prompts.prompt import PromptTemplate\n",
    "\n",
    "chat = ChatOpenAI(\n",
    "temperature=0.1,\n",
    ")"
   ]
  },
  {
   "cell_type": "code",
   "execution_count": 10,
   "metadata": {},
   "outputs": [
    {
     "data": {
      "text/plain": [
       "AIMessage(content='AI: \\n\\t\\tHere is the information about \"Jaws\":\\n\\t\\t- Director: Steven Spielberg\\n\\t\\t- Main Cast: Roy Scheider, Robert Shaw, Richard Dreyfuss\\n\\t\\t- Budget: $9 million\\n\\t\\t- Box Office Revenue: $470.7 million\\n\\t\\t- Genre: Thriller, Horror\\n\\t\\t- Synopsis: A giant great white shark attacks beachgoers on Amity Island, prompting the local police chief, a marine biologist, and a professional shark hunter to hunt it down.')"
      ]
     },
     "execution_count": 10,
     "metadata": {},
     "output_type": "execute_result"
    }
   ],
   "source": [
    "examples = [\n",
    "\t{\n",
    "\t\t\"question\": \"Can you provide details on Jurassic Park?\",\n",
    "\t\t\"answer\": \"\"\"\n",
    "\t\tHere is the information about \"Jurassic Park\":\n",
    "     \t- Director: Steven Spielberg\n",
    "     \t- Main Cast: Sam Neill, Laura Dern, Jeff Goldblum, Richard Attenborough\n",
    "     \t- Budget: $63 million\n",
    "     \t- Box Office Revenue: $1.033 billion\n",
    "     \t- Genre: Action, Adventure, Sci-Fi\n",
    "     \t- Synopsis: During a preview tour, a theme park suffers a major power breakdown that allows its cloned dinosaur exhibits to run amok.\n",
    "\t\t\"\"\",\n",
    "\t},\n",
    "\t\n",
    "\t{\n",
    "\t\t\"question\": \"What about the movie Titanic?\",\n",
    "\t\t\"answer\": \"\"\"\n",
    "\t\tHere is the information about \"Titanic\":\n",
    "\t\t- Director: James Cameron\n",
    "\t\t- Main Cast: Leonardo DiCaprio, Kate Winslet, Billy Zane, Kathy Bates\n",
    "\t\t- Budget: $200 million\n",
    "\t\t- Box Office Revenue: $2.202 billion\n",
    "\t\t- Genre: Drama, Romance\n",
    "\t\t- Synopsis: A seventeen-year-old aristocrat falls in love with a kind but poor artist aboard the luxurious, ill-fated R.M.S. Titanic.\n",
    "\t\t\"\"\",\n",
    "\t},\n",
    "\n",
    "\t{\n",
    "\t\t\"question\": \"What about the movie Inception?\",\n",
    "\t\t\"answer\": \"\"\"\n",
    "\t\tHere is the information about \"Inception\":\n",
    "\t\t- Director: Christopher Nolan\n",
    "        - Main Cast: Leonardo DiCaprio, Joseph Gordon-Levitt, Ellen Page, Tom Hardy\n",
    "        - Budget: $160 million\n",
    "        - Box Office Revenue: $829.9 million\n",
    "        - Genre: Action, Sci-Fi, Thriller\n",
    "        - Synopsis: A thief who steals corporate secrets through the use of dream-sharing technology is given the inverse task of planting an idea into the mind of a CEO.\"\n",
    "\t\t\"\"\",\n",
    "\t},\n",
    "]\n",
    "\n",
    "example_prompt = PromptTemplate.from_template(\"Human: {question}\\nAI: {answer}\")\n",
    "\n",
    "prompt = FewShotPromptTemplate(\n",
    "\texample_prompt=example_prompt,\n",
    "\texamples=examples,\n",
    "\tsuffix=\"Human: What about the movie {movie}?\",\n",
    "\tinput_variables=[\"movie\"],\n",
    ")\n",
    "\n",
    "#prompt.format(movie=\"Jaws\")\n",
    "\n",
    "chain = prompt | chat\n",
    "chain.invoke({\"movie\":\"Jaws\"})"
   ]
  },
  {
   "cell_type": "markdown",
   "metadata": {},
   "source": []
  },
  {
   "cell_type": "code",
   "execution_count": null,
   "metadata": {},
   "outputs": [],
   "source": []
  },
  {
   "cell_type": "code",
   "execution_count": null,
   "metadata": {},
   "outputs": [],
   "source": []
  },
  {
   "cell_type": "code",
   "execution_count": null,
   "metadata": {},
   "outputs": [],
   "source": []
  },
  {
   "cell_type": "code",
   "execution_count": null,
   "metadata": {},
   "outputs": [],
   "source": []
  }
 ],
 "metadata": {
  "kernelspec": {
   "display_name": "env",
   "language": "python",
   "name": "python3"
  },
  "language_info": {
   "codemirror_mode": {
    "name": "ipython",
    "version": 3
   },
   "file_extension": ".py",
   "mimetype": "text/x-python",
   "name": "python",
   "nbconvert_exporter": "python",
   "pygments_lexer": "ipython3",
   "version": "3.11.5"
  }
 },
 "nbformat": 4,
 "nbformat_minor": 2
}
