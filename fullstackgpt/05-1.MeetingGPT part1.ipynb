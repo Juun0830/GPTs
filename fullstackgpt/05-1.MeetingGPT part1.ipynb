{
 "cells": [
  {
   "cell_type": "code",
   "execution_count": 1,
   "metadata": {},
   "outputs": [
    {
     "name": "stderr",
     "output_type": "stream",
     "text": [
      "ffmpeg version 6.1.1 Copyright (c) 2000-2023 the FFmpeg developers\n",
      "  built with Apple clang version 15.0.0 (clang-1500.3.9.4)\n",
      "  configuration: --prefix=/opt/homebrew/Cellar/ffmpeg/6.1.1_7 --enable-shared --enable-pthreads --enable-version3 --cc=clang --host-cflags= --host-ldflags='-Wl,-ld_classic' --enable-ffplay --enable-gnutls --enable-gpl --enable-libaom --enable-libaribb24 --enable-libbluray --enable-libdav1d --enable-libharfbuzz --enable-libjxl --enable-libmp3lame --enable-libopus --enable-librav1e --enable-librist --enable-librubberband --enable-libsnappy --enable-libsrt --enable-libssh --enable-libsvtav1 --enable-libtesseract --enable-libtheora --enable-libvidstab --enable-libvmaf --enable-libvorbis --enable-libvpx --enable-libwebp --enable-libx264 --enable-libx265 --enable-libxml2 --enable-libxvid --enable-lzma --enable-libfontconfig --enable-libfreetype --enable-frei0r --enable-libass --enable-libopencore-amrnb --enable-libopencore-amrwb --enable-libopenjpeg --enable-libopenvino --enable-libspeex --enable-libsoxr --enable-libzmq --enable-libzimg --disable-libjack --disable-indev=jack --enable-videotoolbox --enable-audiotoolbox --enable-neon\n",
      "  libavutil      58. 29.100 / 58. 29.100\n",
      "  libavcodec     60. 31.102 / 60. 31.102\n",
      "  libavformat    60. 16.100 / 60. 16.100\n",
      "  libavdevice    60.  3.100 / 60.  3.100\n",
      "  libavfilter     9. 12.100 /  9. 12.100\n",
      "  libswscale      7.  5.100 /  7.  5.100\n",
      "  libswresample   4. 12.100 /  4. 12.100\n",
      "  libpostproc    57.  3.100 / 57.  3.100\n",
      "Input #0, mov,mp4,m4a,3gp,3g2,mj2, from '/Users/jihoonchoi/Projects/GPTs/files/example.mp4':\n",
      "  Metadata:\n",
      "    major_brand     : mp42\n",
      "    minor_version   : 0\n",
      "    compatible_brands: isommp42\n",
      "    creation_time   : 2024-02-07T05:50:19.000000Z\n",
      "  Duration: 00:14:16.77, start: 0.000000, bitrate: 360 kb/s\n",
      "  Stream #0:0[0x1](und): Video: h264 (Main) (avc1 / 0x31637661), yuv420p(tv, bt709, progressive), 1280x720 [SAR 1:1 DAR 16:9], 228 kb/s, 30 fps, 30 tbr, 15360 tbn (default)\n",
      "    Metadata:\n",
      "      creation_time   : 2024-02-07T05:50:19.000000Z\n",
      "      handler_name    : ISO Media file produced by Google Inc. Created on: 02/06/2024.\n",
      "      vendor_id       : [0][0][0][0]\n",
      "  Stream #0:1[0x2](und): Audio: aac (LC) (mp4a / 0x6134706D), 44100 Hz, stereo, fltp, 128 kb/s (default)\n",
      "    Metadata:\n",
      "      creation_time   : 2024-02-07T05:50:19.000000Z\n",
      "      handler_name    : ISO Media file produced by Google Inc. Created on: 02/06/2024.\n",
      "      vendor_id       : [0][0][0][0]\n",
      "Stream mapping:\n",
      "  Stream #0:1 -> #0:0 (aac (native) -> mp3 (libmp3lame))\n",
      "Press [q] to stop, [?] for help\n",
      "Output #0, mp3, to '/Users/jihoonchoi/Projects/GPTs/files/example.mp3':\n",
      "  Metadata:\n",
      "    major_brand     : mp42\n",
      "    minor_version   : 0\n",
      "    compatible_brands: isommp42\n",
      "    TSSE            : Lavf60.16.100\n",
      "  Stream #0:0(und): Audio: mp3, 44100 Hz, stereo, fltp (default)\n",
      "    Metadata:\n",
      "      creation_time   : 2024-02-07T05:50:19.000000Z\n",
      "      handler_name    : ISO Media file produced by Google Inc. Created on: 02/06/2024.\n",
      "      vendor_id       : [0][0][0][0]\n",
      "      encoder         : Lavc60.31.102 libmp3lame\n",
      "[out#0/mp3 @ 0x13962a370] video:0kB audio:13388kB subtitle:0kB other streams:0kB global headers:0kB muxing overhead: 0.002524%\n",
      "size=   13388kB time=00:14:16.76 bitrate= 128.0kbits/s speed= 109x    \n"
     ]
    }
   ],
   "source": [
    "import subprocess\n",
    "\n",
    "def extract_audio_from_video(video_path, audio_path):\n",
    "    command = [\n",
    "        \"ffmpeg\", \n",
    "        \"-i\", \n",
    "        video_path, \n",
    "        \"-vn\", \n",
    "        audio_path,\n",
    "        ]\n",
    "    subprocess.run(command)\n",
    "\n",
    "extract_audio_from_video(\n",
    "    \"/Users/jihoonchoi/Projects/GPTs/files/example.mp4\", \n",
    "    \"/Users/jihoonchoi/Projects/GPTs/files/example.mp3\"\n",
    "    )"
   ]
  },
  {
   "cell_type": "code",
   "execution_count": 2,
   "metadata": {},
   "outputs": [],
   "source": [
    "from pydub import AudioSegment\n",
    "import math\n",
    "\n",
    "track = AudioSegment.from_mp3(\"/Users/jihoonchoi/Projects/GPTs/files/example.mp3\")\n",
    "\n",
    "five_min = 5 * 60 * 1000\n",
    "ten_min = 10 * 60 * 1000\n",
    "\n",
    "chunks = math.ceil(len(track) / ten_min)\n",
    "\n",
    "for i in range(chunks):\n",
    "    start_time = i * ten_min\n",
    "    end_time = (i+1) * ten_min\n",
    "\n",
    "    chunk = track[start_time:end_time]\n",
    "\n",
    "    chunk.export(f\"/Users/jihoonchoi/Projects/GPTs/files/chunks/chunk_{i}.mp3\")"
   ]
  },
  {
   "cell_type": "code",
   "execution_count": 19,
   "metadata": {},
   "outputs": [],
   "source": [
    "def cut_audio_in_chunk(audio_path, chunk_size, chunk_folder):\n",
    "    track = AudioSegment.from_mp3(audio_path)\n",
    "    chunk_len = chunk_size * 60 * 1000\n",
    "    chunks = math.ceil(len(track) / chunk_len)\n",
    "\n",
    "    for i in range(chunks):\n",
    "        start_time = i * ten_min\n",
    "        end_time = (i+1) * ten_min\n",
    "\n",
    "        chunk = track[start_time:end_time]\n",
    "\n",
    "        chunk.export(f\"{chunk_folder}/chunk_{i}.mp3\", format=\"mp3\")"
   ]
  },
  {
   "cell_type": "code",
   "execution_count": 21,
   "metadata": {},
   "outputs": [],
   "source": [
    "cut_audio_in_chunk(\"/Users/jihoonchoi/Projects/GPTs/files/example.mp3\", 8, \"/Users/jihoonchoi/Projects/GPTs/files/chunks\")"
   ]
  },
  {
   "cell_type": "code",
   "execution_count": 23,
   "metadata": {},
   "outputs": [
    {
     "name": "stdout",
     "output_type": "stream",
     "text": [
      "{\n",
      "  \"text\": \"\\uc790 \\uc81c\\uac00 \\uc2e4\\uc81c\\ub85c \\uacaa\\uc740 \\uc77c\\uc740 \\uc544\\ub2c8\\uc9c0\\ub9cc \\ub9c8\\uce58 \\uadf8\\ub7f0 \\uac83\\ucc98\\ub7fc \\uc5b4\\ub5a4 \\uc9e7\\uc740 \\uc774\\uc57c\\uae30\\ub97c \\uc6b0\\uc120 \\ud55c\\uad6d\\uc5b4\\ub85c \\uba3c\\uc800 \\uc880 \\ub4e4\\ub824 \\ub4dc\\ub9b4\\uac8c\\uc694 \\uc77c\\ub2e8 \\uadf8\\ub0e5 \\ud3b8\\ud558\\uac8c \\ub4e4\\uc5b4\\ubcf4\\uc138\\uc694 \\uce5c\\uad6c\\ub791 \\ub531 \\ub4e4\\uc5b4\\uac14\\ub294\\ub370 \\uc0ac\\ub78c\\uc774 \\uc5c4\\uccad \\ub9ce\\ub354\\ub77c\\uad6c\\uc694 \\ube48 \\ud14c\\uc774\\ube14 \\uc5c6\\uace0 \\ubcf4\\ub2c8\\uae4c \\uae08\\ubc29 \\uc790\\ub9ac\\uac00 \\ub098\\uc9c0\\ub3c4 \\uc54a\\uaca0\\ub354\\ub77c\\uad6c\\uc694 \\uadf8\\ub798\\uc11c \\uce5c\\uad6c \\ubcf4\\uace0 \\ub2e4\\ub978 \\ub370 \\uac00\\uc790\\uace0 \\uc598\\uae30\\ub97c \\ud558\\ub824\\ub294\\ub370 \\uc598\\uac00 \\uc5b4\\ub290 \\ud14c\\uc774\\ube14\\uc5d0 \\uc549\\uc544\\uc788\\ub294 \\ub098\\uc774\\uac00 \\uc880 \\uc788\\ub294 \\ucee4\\ud50c\\ud55c\\ud14c \\uac00\\ub354\\ub2c8 \\uac19\\uc774 \\uc880 \\uc549\\uc544\\ub3c4 \\ub418\\ub0d0\\ub294 \\uac70\\uc5d0\\uc694 \\uadf8\\ub798\\uc11c \\uc81c\\uac00 \\uc57c \\ub108 \\ubb50\\ud574 \\ubbf8\\ucce4\\uc5b4 \\uc774\\ub7ac\\uc8e0 \\ubb34\\ub840\\ud55c \\uac70 \\uc544\\ub2c8\\uc5d0\\uc694? \\uc800\\ub294 \\uadf8\\uac74 \\uc880 \\uc544\\ub2cc \\uac83 \\uac19\\ub354\\ub77c\\uad6c\\uc694 \\uadfc\\ub370 \\uc758\\uc678\\ub85c \\uadf8 \\ucee4\\ud50c\\uc774 \\ub108\\ubb34 \\ucfe8\\ud558\\uac8c \\uad1c\\ucc2e\\ub2e4\\uace0 \\ud574\\uc11c \\ubc14\\ub85c \\uc606\\uc5d0 \\uc549\\uc558\\uc5b4\\uc694 \\uc800\\ub294 \\uadf8\\ub798\\ub3c4 \\uadf8\\uac8c \\uc880 \\uc5b4\\uc0c9\\ud558\\ub354\\ub77c\\uad6c\\uc694 \\uadfc\\ub370 \\uadf8 \\uce5c\\uad6c\\ub294 \\ub298 \\uadf8\\ub807\\uac8c \\ud55c\\ub2e4\\uace0 \\uadf8\\ub7ec\\ub354\\ub77c\\uad6c\\uc694 \\ubcc4\\uac70 \\uc5c6\\uc8e0 \\uc5ec\\uae30\\uc11c \\uc815\\ub9d0 \\uc911\\uc694\\ud55c \\ub9d0\\ub4e4\\uc774 \\uc788\\uc5b4\\uc694 \\uc774\\uac78 \\uc774\\uc81c \\uc601\\uc5b4\\ub85c \\ud55c\\ub2e4\\uba74 \\uc124\\uba85\\uc744 \\uac04\\ub7b5\\ud558\\uac8c \\ud558\\uba74\\uc11c \\uc774 \\ubd80\\ubd84\\ub4e4\\ub9cc \\uc774 \\ubcc4\\ud45c \\uce5c \\ubd80\\ubd84\\ub4e4\\ub9cc \\uadf8\\ub7ec\\ub2c8\\uae4c \\uc774\\ub7f0 \\ubd80\\ubd84\\uc740 \\uc880 \\ub098\\uc911\\uc5d0 \\ubcf4\\uc5ec\\ub4dc\\ub9b4 \\uac70\\uc5d0\\uc694 \\uc774 \\ubcc4\\ud45c \\uce5c \\ubd80\\ubd84\\ub4e4\\ub9cc \\uc65c \\uc774\\ub7f0 \\ud45c\\ud604\\uc744 \\uc4f0\\ub294 \\uac8c \\uc88b\\uc740\\uc9c0 \\uadf8\\ub7ec\\uba74\\uc11c \\uc601\\uc5b4\\ub85c \\uba87 \\ubc88 \\uc880 \\ub4e4\\ub824 \\ub4dc\\ub9b4\\uac8c\\uc694 \\uadf8\\uac78 \\uc880 \\ubc18\\ubcf5\\ud574\\uc11c \\ubcf4\\uc5ec\\ub4dc\\ub9b4\\uac8c\\uc694 \\uc77c\\ub2e8 \\uc790 \\ub531 \\ub4e4\\uc5b4\\uac14\\ub294\\ub370 \\uc0ac\\ub78c\\uc774 \\uc5c4\\uccad \\ub9ce\\ub354\\ub77c\\uad6c\\uc694 \\uc5ec\\uae30\\uc11c\\ub294 \\ubb50\\uac00 \\ub290\\uaef4\\uc838\\uc57c \\ub418\\ub0d0\\uba74 \\ub4e4\\uc5b4\\uac00\\uc790\\ub9c8\\uc790 \\ubc14\\ub85c \\uc778\\uc2dd\\ub41c \\uc5b4\\ub5a4 \\ud2b9\\uc9d5 notice notice\\ub77c\\ub294 \\uac70\\ub97c \\uc774\\ub7f0 \\ub290\\ub08c\\uc73c\\ub85c \\uc4f8 \\uc904 \\uc544\\ub294 \\uadf8 \\uac10\\uac01\\uc744 \\ud0a4\\uc6b0\\ub294 \\uac8c \\uc815\\ub9d0 \\uc911\\uc694\\ud574\\uc694 \\uc790 \\uadf8\\uac78 \\uc0dd\\uac01\\ud558\\uba74\\uc11c \\ub530\\ub77c\\ud574\\ubcf4\\uc138\\uc694 I noticed right away I noticed right away I noticed right away \\uc4f0\\uba74\\uc11c \\ud574\\ubcfc\\uae4c\\uc694? I noticed right away \\uadf8\\ub798\\uc11c \\uc774 \\ub9e5\\ub77d\\uae4c\\uc9c0 \\uc598\\uae30\\ud558\\uba74\\uc11c \\ud558\\uba74\\uc740 We went inside \\uadf8\\ucd78? \\ub4e4\\uc5b4\\uac14\\ub2e4 We went inside and I noticed right away the place was packed We went inside and I noticed right away the place was packed \\ub450\\ubc88\\uc9f8 \\ubcfc\\uac8c\\uc694 \\ube48 \\ud14c\\uc774\\ube14 \\uc5c6\\uace0 \\ubcf4\\ub2c8\\uae4c \\uc544 \\uae08\\ubc29 \\uc790\\ub9ac\\uac00 \\ub098\\uc9c0\\ub3c4 \\uc54a\\uaca0\\ub354\\ub77c\\uad6c\\uc694 \\ubcf4\\ub2c8\\uae4c \\uae08\\ubc29 \\uc790\\ub9ac\\uac00 \\ub098\\uc9c0\\ub3c4 \\uc54a\\uaca0\\ub354\\ub77c\\uad6c\\uc694 \\ub0b4\\uac00 \\ubcf4\\uace0 \\ubb54\\uac00 \\ud310\\ub2e8\\ud55c \\uc5b4\\ub5a4 \\ud574\\uc11c \\uc774\\uc81c \\ucd94\\uc815\\ub418\\ub294 \\uadf8\\ub7f0 \\ubd80\\ubd84 \\uadf8\\ub7f0 \\uac70\\uc796\\uc544\\uc694 \\uadf8\\ucd78? \\uc790 \\uadf8\\uac78 \\uc0dd\\uac01\\ud558\\uba74\\uc11c \\ub530\\ub77c\\ud574\\ubcf4\\uc138\\uc694 It didn't look like \\ubb50 It didn't seem like \\ub77c\\uace0 \\ud574\\ub3c4 \\ub418\\uae34 \\ud558\\ub294\\ub370 \\uc77c\\ub2e8 look like\\ub85c \\ud560\\uac8c It didn't look like \\ubb54\\uac00 \\ubcf4\\uace0 \\ub098\\ub984 \\ud310\\ub2e8\\ud574\\uc11c \\uc544 \\uc774\\ub807\\uac8c \\ud588\\uad6c\\ub098 \\ud558\\uace0 \\uc774\\uc81c \\ucd94\\uc815\\ud55c \\ubd80\\ubd84\\uc774\\uc796\\uc544\\uc694 It didn't look like \\uc800\\ub294 \\uc5b4\\ub5bb\\uac8c \\ub290\\ub07c\\ub0d0\\uba74 It didn't look like anyone was leaving anytime soon \\uc790\\ub9ac\\uac00 \\ub098\\ub2e4 \\ubb3c\\ub860 \\uc6b0\\ub9ac\\ub9d0\\uc2a4\\ub7fd\\uac8c \\uc601\\uc5b4\\ub97c \\ub9cc\\ub4e4 \\uc218\\ub294 \\uc788\\uaca0\\uc8e0 \\uadfc\\ub370 \\uc81c\\uac00 \\ud56d\\uc0c1 \\uac15\\uc870\\ud558\\ub294 \\uac74 \\uadf8\\uac70\\uc8e0 \\uc6b0\\ub9ac\\uac00 \\uc774\\ub807\\uac8c \\ub9d0\\uc744 \\ud558\\ub294 \\uadf8 \\uc0c1\\ud669\\uc5d0\\uc11c \\uadf8 \\ub0b4\\uc6a9\\uc744 \\uc678\\uad6d\\uc778\\ub4e4\\uc740 \\ubcf4\\ud1b5 \\uc5b4\\ub5bb\\uac8c \\ub9d0\\ud558\\ub290\\ub0d0 \\ubb3c\\ub860 \\ubb50 \\ud55c \\uac00\\uc9c0\\ub9cc \\uc788\\ub294 \\uac74 \\uc544\\ub2c8\\uc5d0\\uc694 \\uc5ec\\ub7ec \\uac00\\uc9c0\\uac00 \\uc788\\uaca0\\uc9c0\\ub9cc \\uc774 \\uc815\\ub3c4 \\uc598\\uae30\\ub97c \\ud55c\\ub2e4\\uba74 \\uadf8\\ub0e5 \\uc800\\ub294 \\uc774\\ub807\\uac8c \\uc598\\uae30\\ub97c \\ud574\\uc694 \\uc694\\uc815\\ub3c4\\ub784\\uae4c\\uc694? \\uc804\\uccb4 \\ubb38\\uc7a5\\uc744 \\uadf8\\ub0e5 \\uc368\\ubd24\\uc5b4\\uc694 All the tables were occupied \\ube48 \\ud14c\\uc774\\ube14\\uc774 \\uc5c6\\ub2e4\\ub77c\\ub294 \\uac70 \\ubb3c\\ub860 there were no empty tables \\ub77c\\uace0 \\ud574\\ub3c4 \\ub3fc\\uc694 \\uadfc\\ub370 \\uc800\\ub77c\\uba74 \\uadf8\\ub0e5 \\uc774\\ub807\\uac8c \\ud560 \\uac83 \\uac19\\uc544\\uc694 All the tables were occupied and it didn't look like anyone was leaving anytime soon \\uc9c0\\uae08 \\uc774 \\ubd80\\ubd84\\uc774 \\uc911\\uc694\\ud55c \\uac70\\uc608\\uc694 It didn't look like anyone was leaving anytime soon \\ubcf4\\ub2c8\\uae4c \\uadf8\\ub807\\ub354\\ub77c \\ubb54\\uac00\\ub97c \\ubcf4\\uace0 \\uc544 \\uc774\\ub807\\uac8c \\ud588\\uad6c\\ub098 \\ub77c\\uace0 \\ucd94\\uc815\\ud55c \\uac70 It didn't look like It didn't seem like anyone was leaving anytime soon We went inside and I noticed right away the place was packed All the tables were occupied and it didn't look like anyone was leaving anytime soon \\uadf8\\ub798\\uc11c \\uce5c\\uad6c \\ubcf4\\uace0 \\ub2e4\\ub978 \\ub370 \\uac00\\uc790\\uace0 \\uc598\\uae30\\ub97c \\ud558\\ub824\\ub294\\ub370 \\uc598\\uac00 \\uc5b4\\ub290 \\ud14c\\uc774\\ube14\\uc5d0 \\uc549\\uc544 \\uc788\\ub294 \\ub098\\uc774\\uac00 \\uc880 \\uc788\\ub294 \\ucee4\\ud50c \\ub54c\\ubb38\\uc5d0 \\uac00\\ub354\\ub2c8 \\uac19\\uc774 \\uc880 \\uc549\\uc544\\ub3c4 \\ub418\\ub0d0\\ub294 \\uac70\\uc608\\uc694 \\uadf8\\ub798\\uc11c \\uc81c\\uac00 \\uc57c \\ub108 \\ubb50\\ud574 \\ubbf8\\ucce4\\uc5b4 \\uc774\\ub7ac\\uc8e0 \\ub108\\ubb34 \\ubb34\\ub840\\ud55c \\uac70 \\uc544\\ub2c8\\uc5d0\\uc694? \\uc804 \\uadf8\\uac74 \\uc880 \\uc544\\ub2cc \\uac83 \\uac19\\ub354\\ub77c\\uace0\\uc694 \\uc800\\ub294 \\uadf8\\uac8c \\uc880 \\uc774\\ub807\\ub354\\ub77c\\uace0\\uc694 \\uadf8\\uac8c \\ub098\\uc5d0\\uac8c \\uc900 \\uc778\\uc0c1 \\ub0b4\\uac00 \\uadf8\\uac83\\uc73c\\ub85c\\ubd80\\ud130 \\ubc1b\\uc740 \\uc778\\uc0c1 \\ubb3c\\ub860 \\uc774\\uac83\\ub3c4 \\uba87 \\uac00\\uc9c0 \\ubc29\\ubc95\\uc774 \\uc788\\uaca0\\uc9c0\\ub9cc \\uc81c\\uac00 \\uc774\\ubc88 \\uc774 \\uc2a4\\ud1a0\\ub9ac\\ub97c \\ud1b5\\ud574\\uc11c \\uc5ec\\ub7ec\\ubd84\\uc774 \\uc5f0\\uc2b5\\ud588\\uc73c\\uba74 \\uc88b\\uaca0\\ub294 \\uac70 I found it I found that \\ub77c\\uace0 \\ud560\\uae4c\\uc694? \\uadf8\\uac74 \\uc774\\ub77c\\uace0 \\ud588\\uc73c\\ub2c8\\uae4c I found that really inappropriate I found that really inappropriate \\uc800\\ub294 \\uadf8\\uac74 \\uc880 \\uc544\\ub2cc \\uac83 \\uac19\\ub2e4 I found that really inappropriate We went inside and I noticed right away the place was totally packed All the tables were occupied and it didn't look like anyone was leaving anytime soon So \\uc774\\ub807\\uac8c \\uc774\\ub7ec\\uace0 Are you crazy? \\ud588\\ub2e4\\uac00 \\uc800\\ub294 \\uadf8\\uac74 \\uc880 \\uc544\\ub2cc \\uac83 \\uac19\\ub354\\ub77c\\uace0\\uc694 I found that really inappropriate \\uadfc\\ub370 \\uc758\\uc678\\ub85c \\uadf8 \\ucee4\\ud50c\\uc774 \\ub108\\ubb34 \\ucfe8\\ud558\\uac8c \\uad1c\\ucc2e\\ub2e4\\uace0 \\ud574\\uc11c \\ubc14\\ub85c \\uc606\\uc5d0 \\uc549\\uc558\\uc5b4\\uc694 \\uc800\\ub294 \\uadf8\\ub798\\ub3c4 \\uadf8\\uac8c \\uc880 \\uc5b4\\uc0c9\\ud558\\ub354\\ub77c\\uace0\\uc694 \\uadf8\\ucd78 \\ub610 \\ub098\\uc654\\uc8e0 Awkward But I still found that kind of awkward But I still found that kind of awkward But I still found that kind of awkward But I still found that kind of awkward But I still found that kind of awkward \\uadfc\\ub370 \\uc81c \\uce5c\\uad6c\\ub294 \\ub298 \\uadf8\\ub807\\uac8c \\ud55c\\ub2e4\\uace0 \\uadf8\\ub7ec\\ub354\\ub77c\\uace0\\uc694 \\uc5b4\\uc0c9\\ud558\\uace0 \\uadf8\\ub7f0\\ub370 \\ub0b4 \\uce5c\\uad6c\\ub294 \\uc774\\ub807\\ub2e4\\ub354\\ub77c \\ubb54\\uac00 \\uc608\\uc0c1\\uce58 \\ubabb\\ud55c \\uc5b4\\ub5a4 \\uc0ac\\uc2e4\\ub85c \\ub4dc\\ub7ec\\ub09c \\uc5b4\\ub5a4 \\uc758\\uc678\\uc758 \\uac83 \\ubcf4\\uc8e0 Turn out It turns out It turns out that \\uc0dd\\uac01\\ud574\\ub3c4 \\ub3fc\\uc694 It turns out my friend does that all the time I still found that kind of awkward But \\ubc84\\ud2f8\\uae4c\\uc694? But it turns out my friend does that all the time But it turns out my friend does that all the time \\ub0b4 \\uce5c\\uad6c\\ub294 \\ub298 \\uadf8\\ub807\\uac8c \\ud55c\\ub2e4\\ub354\\ub77c\\uace0\\uc694 \\ubb54\\uac00 \\uc0c8\\ub85c \\ubc1c\\uacac\\ud55c \\uc0ac\\uc2e4 \\uc608\\uc0c1\\uce58 \\ubabb\\ud558\\uace0 \\ubab0\\ub790\\ub358 \\uc5b4\\ub5a4 \\uc0ac\\uc2e4\\uc774 \\ub4dc\\ub7ec\\ub09c \\uadf8\\ub807\\ub2e4\\ub354\\ub77c\\uace0\\uc694 \\uadf8\\ub807\\uac8c \\ud55c\\ub2e4\\ub354\\ub77c\\uace0\\uc694 It turns out my friend does that all the time \\uc790 \\uc5ec\\uae30\\uae4c\\uc9c0\\uc608\\uc694 \\uc774 \\uc911\\uc694\\ud55c \\ubd80\\ubd84\\ub4e4 \\ub531 \\ub4e4\\uc5b4\\uac14\\ub294\\ub370 \\uc0ac\\ub78c\\uc774 \\uc5c4\\uccad \\ub9ce\\ub354\\ub77c\\uace0\\uc694 \\ubcf4\\uc790\\ub9c8\\uc790 \\uc778\\uc9c0\\ud55c \\uc5b4\\ub5a4 \\uac83 I noticed right away We went inside And I noticed right away The place was packed The place was completely packed \\ubcf4\\ub2c8\\uae4c \\ub531 \\ubcf4\\ub2c8\\uae4c \\uae08\\ubc29 \\uc790\\ub9ac\\uac00 \\ub098\\uc9c0\\ub3c4 \\uc54a\\uaca0\\ub354\\ub77c\\uace0\\uc694 It didn't look like anyone was leaving anytime soon It didn't look like It didn't look like It didn't look like anyone was leaving anytime soon \\uc804 \\uadf8\\uac74 \\uc880 \\uc544\\ub2cc \\uac83 \\uac19\\ub354\\ub77c\\uace0\\uc694 I don't know I found that really inappropriate I found that really inappropriate I found that really inappropriate \\uc800\\ub294 \\uadf8\\ub798\\ub3c4 \\uadf8\\uac8c \\uc880 \\uc5b4\\uc0c9\\ud558\\ub354\\ub77c\\uace0\\uc694 \\ub0b4\\uac00 \\uadf8\\uac83\\uc73c\\ub85c\\ubd80\\ud130 \\ubc1b\\uc740 \\uc778\\uc0c1 \\uadf8\\uac8c \\ub098\\uc5d0\\uac8c \\uc900 \\uc778\\uc0c1 \\uadf8\\uac8c \\ub098\\ud55c\\ud14c\\ub294 \\uc5b4\\ub560\\ub294\\uc9c0 I still found that kind of awkward \\uc800\\ub294 \\uadf8\\ub798\\ub3c4 \\uadf8\\uac8c \\uc880 \\uc5b4\\uc0c9\\ud558\\ub354\\ub77c\\uace0\\uc694 But I still found that kind of awkward \\uadfc\\ub370 \\uc81c \\uce5c\\uad6c\\ub294 \\ub298 \\uadf8\\ub807\\uac8c \\ud55c\\ub2e4\\ub354\\ub77c\\uace0\\uc694 \\uc0c8\\ub85c \\ub4dc\\ub7ec\\ub09c \\uc0ac\\uc2e4 But it turns out my friend does that all the time But it turns out my friend does that all the time \\uc774\\ub807\\uac8c \\uac00\\uc7a5 \\uc911\\uc694\\ud55c \\ubd80\\ubd84\\ub4e4\\uc744 \\ud55c \\ubc88 \\ub4e4\\uc5b4\\ubd24\\uc5b4\\uc694 \\uc9c0\\uae08\\ubd80\\ud130\\ub294\\uc694 \\uc81c\\uac00 \\uc544\\uae4c \\ucc98\\uc74c\\uc5d0 \\ub4e4\\ub824\\ub4dc\\ub838\\ub358 \\uadf8 \\uc774\\uc57c\\uae30 \\uc788\\uc8e0 \\uc774\\uac70\\ub97c \\uc5ec\\ub7ec\\ubd84\\uc5d0\\uac8c \\uadf8\\ub0e5 \\ud3b8\\ud558\\uac8c \\uc601\\uc5b4\\ub85c \\uc598\\uae30\\ub97c \\ud558\\ub4ef\\uc774 \\uc598\\uae30\\ub97c \\ud574\\ubcfc \\ud14c\\ub2c8\\uae4c \\ud55c 3\\ubc88 \\uc815\\ub3c4 \\uc5f0\\uc18d\\uc73c\\ub85c \\ud55c\\ubc88 \\ub4e4\\uc5b4\\ubcfc\\uae4c\\uc694? We went inside And I noticed right away The place was packed All the tables were occupied And it didn't look like anyone was leaving anytime soon So I turned to my friend And just as I was about to suggest Trying a different place He went over to this old couple at a table And asked them if we can share the table with them And I was like What the hell are you doing? Are you crazy? That's rude, right? I found that really inappropriate But to my surprise The old couple were very cool about that And so we sat right next to them But I still found that kind of awkward But it turns out My friend does that all the time We went inside And I noticed right away The place was packed All the tables were occupied And it didn't look like anyone was leaving anytime soon So I turned to my friend And just as I was about to suggest Trying a different place He went over to this old couple at a table And asked them if we can share the table with them And I was like What the hell are you doing? Are you crazy? That's rude, right? I mean I found that really inappropriate But to my surprise The couple were very cool about that And so we sat right next to them But I still found that kind of awkward But it turns out My friend does that all the time So we went inside And I noticed right away The place was completely packed All the tables were occupied And it didn't look like anyone was leaving anytime soon So I turned to my friend And just as I was about to suggest Trying a different place He walked over to this couple And asked them if we could share the table with them And I was like What the hell are you doing? Are you crazy? That's rude, right? I mean I found that really inappropriate But to my surprise The couple were very cool with it And so we sat right next to them I mean I still found that pretty awkward But it turns out My friend does that all the time So we went inside And I noticed right away I noticed right away I noticed right away The place was packed All the tables were occupied And it didn't look like anyone was leaving anytime soon It didn't look like anyone\"\n",
      "}\n"
     ]
    }
   ],
   "source": [
    "import openai\n",
    "\n",
    "transcript = openai.Audio.transcribe(\n",
    "    \"whisper-1\",\n",
    "    open(\"/Users/jihoonchoi/Projects/GPTs/files/chunks/chunk_0.mp3\", \"rb\")\n",
    "    )\n",
    "\n",
    "transcript['text']"
   ]
  },
  {
   "cell_type": "code",
   "execution_count": 26,
   "metadata": {},
   "outputs": [],
   "source": [
    "import glob\n",
    "\n",
    "def transcribe_chunks(chunk_folder, destination):\n",
    "    files = glob.glob(f\"{chunk_folder}/*.mp3\")\n",
    "\n",
    "    for file in files:\n",
    "        with open(file, \"rb\") as audio_file, open(destination, \"a\") as text_file:\n",
    "            transcript = openai.Audio.transcribe(\n",
    "                \"whisper-1\",\n",
    "                audio_file,\n",
    "            )\n",
    "            text_file.write(transcript[\"text\"])\n",
    "\n",
    "transcribe_chunks(\"/Users/jihoonchoi/Projects/GPTs/files/chunks\", \"/Users/jihoonchoi/Projects/GPTs/files/chunks/transcript.txt\")"
   ]
  }
 ],
 "metadata": {
  "kernelspec": {
   "display_name": "env",
   "language": "python",
   "name": "python3"
  },
  "language_info": {
   "codemirror_mode": {
    "name": "ipython",
    "version": 3
   },
   "file_extension": ".py",
   "mimetype": "text/x-python",
   "name": "python",
   "nbconvert_exporter": "python",
   "pygments_lexer": "ipython3",
   "version": "3.11.5"
  }
 },
 "nbformat": 4,
 "nbformat_minor": 2
}
