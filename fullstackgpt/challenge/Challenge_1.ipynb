{
 "cells": [
  {
   "cell_type": "code",
   "execution_count": 32,
   "metadata": {},
   "outputs": [],
   "source": [
    "'''\n",
    "프로그래밍 언어에 대한 시를 쓰는 데 특화된 체인과 시를 설명하는 데 특화된 체인을 만드세요.\n",
    "LCEL을 사용해 두 체인을 서로 연결합니다.\n",
    "최종 체인은 프로그래밍 언어의 이름을 받고 시와 그 설명으로 응답해야 합니다.\n",
    "모델로는 \"gpt-3.5-turbo\"를 사용하고 프롬프트에는 ChatPromptTemplate을 사용하세요.\n",
    "'''\n",
    "\n",
    "from langchain.chat_models import ChatOpenAI\n",
    "from langchain.schema import HumanMessage, AIMessage, SystemMessage\n",
    "from langchain.prompts import ChatPromptTemplate\n",
    "\n",
    "chat = ChatOpenAI(\n",
    "temperature=0.1,\n",
    ")\n"
   ]
  },
  {
   "cell_type": "code",
   "execution_count": null,
   "metadata": {},
   "outputs": [],
   "source": [
    "# 시인 LLM\n",
    "\n",
    "write_prompt = ChatPromptTemplate.from_messages([\n",
    "\t(\"system\", \"You are a world-class famous Japanese poets. You can write beautiful poems inspired by natural objects in the Haiku style.\"), \n",
    "\t(\"human\", \"I want to write a poet inspired by {object}.\"),\n",
    "    ])\n",
    "\n",
    "poet_chain = write_prompt | chat"
   ]
  },
  {
   "cell_type": "code",
   "execution_count": 14,
   "metadata": {},
   "outputs": [],
   "source": [
    "# 평론가 LLM\n",
    "\n",
    "review_prompt = ChatPromptTemplate.from_messages([\n",
    "\t(\"system\", \"You're a critic who can explain the meaning behind a beautiful poem. You can read a poem and express exactly what it's about and what it's trying to say. You can write a review in a way that people can understand..\"), \n",
    "\t(\"human\", \"{poet}\"),\n",
    "    ])\n",
    "\n",
    "critic_chain = review_prompt | chat"
   ]
  },
  {
   "cell_type": "code",
   "execution_count": 28,
   "metadata": {},
   "outputs": [
    {
     "data": {
      "text/plain": [
       "\"Pink petals dancing,\\nSakura blooms in the breeze,\\nSpring's gentle embrace.\""
      ]
     },
     "execution_count": 28,
     "metadata": {},
     "output_type": "execute_result"
    }
   ],
   "source": [
    "poet_chain.invoke({'object': 'Sakura'}).content"
   ]
  },
  {
   "cell_type": "code",
   "execution_count": 30,
   "metadata": {},
   "outputs": [
    {
     "data": {
      "text/plain": [
       "'In this haiku, the poet captures the essence of spring through the delicate imagery of pink sakura petals dancing in the breeze. The blooming of the sakura, or cherry blossom, is a symbol of renewal and beauty in Japanese culture, often associated with the transient nature of life. The gentle embrace of spring mentioned in the poem evokes a sense of warmth and comfort, as nature awakens from its winter slumber.\\n\\nThe simplicity and elegance of the haiku form allow the poet to convey profound emotions and themes in just a few short lines. The fleeting beauty of the sakura petals serves as a reminder of the impermanence of life and the importance of cherishing each moment. The poem invites the reader to pause and appreciate the beauty of nature, to be present in the moment and to find solace in the changing seasons.\\n\\nOverall, this haiku is a poignant reflection on the cyclical nature of life and the beauty that can be found in moments of fleeting grace. It encourages us to embrace the transience of life and find joy in the simple pleasures of the natural world.'"
      ]
     },
     "execution_count": 30,
     "metadata": {},
     "output_type": "execute_result"
    }
   ],
   "source": [
    "critic_chain.invoke({'poet': poet_chain.invoke({'object': 'Sakura'}).content}).content"
   ]
  },
  {
   "cell_type": "code",
   "execution_count": null,
   "metadata": {},
   "outputs": [],
   "source": []
  }
 ],
 "metadata": {
  "kernelspec": {
   "display_name": "env",
   "language": "python",
   "name": "python3"
  },
  "language_info": {
   "codemirror_mode": {
    "name": "ipython",
    "version": 3
   },
   "file_extension": ".py",
   "mimetype": "text/x-python",
   "name": "python",
   "nbconvert_exporter": "python",
   "pygments_lexer": "ipython3",
   "version": "3.11.5"
  }
 },
 "nbformat": 4,
 "nbformat_minor": 2
}
