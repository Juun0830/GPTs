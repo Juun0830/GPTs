{
 "cells": [
  {
   "cell_type": "code",
   "execution_count": 1,
   "metadata": {},
   "outputs": [
    {
     "ename": "AttributeError",
     "evalue": "'str' object has no attribute 'read'",
     "output_type": "error",
     "traceback": [
      "\u001b[0;31m---------------------------------------------------------------------------\u001b[0m",
      "\u001b[0;31mAttributeError\u001b[0m                            Traceback (most recent call last)",
      "Cell \u001b[0;32mIn[1], line 1\u001b[0m\n\u001b[0;32m----> 1\u001b[0m \u001b[38;5;124;43m\"\u001b[39;49m\u001b[38;5;124;43m/Users/jihoonchoi/Projects/GPTs/ToyPrjs/file/example2.txt\u001b[39;49m\u001b[38;5;124;43m\"\u001b[39;49m\u001b[38;5;241;43m.\u001b[39;49m\u001b[43mread\u001b[49m()\n",
      "\u001b[0;31mAttributeError\u001b[0m: 'str' object has no attribute 'read'"
     ]
    }
   ],
   "source": [
    "    with summary_tab:\n",
    "        start = st.button(\"Generate Summary\")\n",
    "\n",
    "        if start:\n",
    "            loader = TextLoader(transcript_path)\n",
    "            splitter = RecursiveCharacterTextSplitter.from_tiktoken_encoder(\n",
    "                chunk_size=800,\n",
    "                chunk_overlap=100,\n",
    "            )\n",
    "            docs = loader.load_and_split(text_splitter=splitter)\n",
    "\n",
    "            first_summary_prompt = ChatPromptTemplate.from_template(\n",
    "                \"\"\"\n",
    "                Write a concise summary of the following:\n",
    "                \"{text}\"\n",
    "                CONCISE SUMMARY:   \n",
    "                \"\"\"\n",
    "                )\n",
    "            \n",
    "            first_summary_chain = first_summary_prompt | llm | StrOutputParser()\n",
    "\n",
    "            summary = first_summary_chain.invoke(\n",
    "                {\"text\": docs[0].page_content},\n",
    "                )\n",
    "            \n",
    "            refine_prompt = ChatPromptTemplate.from_template(\n",
    "                \"\"\"\n",
    "                Your job is to produce a final summary.\n",
    "                We have provided an existing summary up to a certain point: {existing_summary}\n",
    "                We have the opportunity to refine the existing summary (only if needed) with some more context below.\n",
    "                ------------\n",
    "                {context}\n",
    "                ------------\n",
    "                Given the new context, refine the original summary.\n",
    "                If the context isn't useful, RETURN the original summary.\n",
    "                \"\"\"\n",
    "            )\n",
    "\n",
    "            refine_chain = refine_prompt | llm | StrOutputParser()\n",
    "\n",
    "            with st.status(\"Summarizing...\") as status:\n",
    "                for i, doc in enumerate(docs[1:]):\n",
    "                    status.update(\n",
    "                    label=f\"Processing document {i+1}/{len(docs)-1} \"\n",
    "                    )\n",
    "                    summary = refine_chain.invoke(\n",
    "                        {\n",
    "                            \"existing_summary\": summary,\n",
    "                            \"context\": doc.page_content,\n",
    "                        }\n",
    "                    )\n",
    "\n",
    "            st.write(summary)"
   ]
  },
  {
   "cell_type": "code",
   "execution_count": null,
   "metadata": {},
   "outputs": [],
   "source": []
  }
 ],
 "metadata": {
  "kernelspec": {
   "display_name": "env",
   "language": "python",
   "name": "python3"
  },
  "language_info": {
   "codemirror_mode": {
    "name": "ipython",
    "version": 3
   },
   "file_extension": ".py",
   "mimetype": "text/x-python",
   "name": "python",
   "nbconvert_exporter": "python",
   "pygments_lexer": "ipython3",
   "version": "3.11.5"
  }
 },
 "nbformat": 4,
 "nbformat_minor": 2
}
